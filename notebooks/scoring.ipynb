{
 "cells": [
  {
   "cell_type": "code",
   "execution_count": 1,
   "metadata": {},
   "outputs": [],
   "source": [
    "import pandas as pd\n",
    "import cohere\n",
    "from sklearn.model_selection import train_test_split\n",
    "\n",
    "import numpy as np\n",
    "from sklearn.metrics import accuracy_score\n",
    "from sklearn.metrics import f1_score"
   ]
  },
  {
   "cell_type": "code",
   "execution_count": 3,
   "metadata": {},
   "outputs": [],
   "source": [
    "import sys\n",
    "sys.path.insert(0,'../')\n",
    "import config"
   ]
  },
  {
   "cell_type": "code",
   "execution_count": 4,
   "metadata": {},
   "outputs": [],
   "source": [
    "import cohere\n",
    "co = cohere.Client(config.api_key)"
   ]
  },
  {
   "cell_type": "code",
   "execution_count": 5,
   "metadata": {},
   "outputs": [
    {
     "data": {
      "text/plain": [
       "(10, 9)"
      ]
     },
     "execution_count": 5,
     "metadata": {},
     "output_type": "execute_result"
    }
   ],
   "source": [
    "df = pd.read_csv('../data/news.csv')\n",
    "df.shape"
   ]
  },
  {
   "cell_type": "code",
   "execution_count": 6,
   "metadata": {},
   "outputs": [
    {
     "data": {
      "text/plain": [
       "1    7\n",
       "0    3\n",
       "Name: Analyst_Rank, dtype: int64"
      ]
     },
     "execution_count": 6,
     "metadata": {},
     "output_type": "execute_result"
    }
   ],
   "source": [
    "df['Analyst_Rank'] = df['Analyst_Rank'].apply(lambda x: 0 if x<4 else 1)\n",
    "df['Analyst_Rank'].value_counts()"
   ]
  },
  {
   "cell_type": "code",
   "execution_count": 7,
   "metadata": {},
   "outputs": [],
   "source": [
    "# Split the dataset into training and test portions\n",
    "# Training = training the LLM\n",
    "# Test = For evaluating the classifier performance\n",
    "X, y = df[\"Title\"], df[\"Analyst_Rank\"].astype(str)\n",
    "X_train, X_test, y_train, y_test = train_test_split(\n",
    "    X, y, test_size=0.10, random_state=21)"
   ]
  },
  {
   "cell_type": "code",
   "execution_count": 8,
   "metadata": {},
   "outputs": [
    {
     "name": "stdout",
     "output_type": "stream",
     "text": [
      "['1', '0']\n"
     ]
    }
   ],
   "source": [
    "# View the list of all available categories\n",
    "intents = y_train.unique().tolist()\n",
    "print(intents)"
   ]
  },
  {
   "cell_type": "markdown",
   "metadata": {},
   "source": [
    "### Few-shot classification"
   ]
  },
  {
   "cell_type": "markdown",
   "metadata": {},
   "source": [
    "#### sample data"
   ]
  },
  {
   "cell_type": "code",
   "execution_count": 9,
   "metadata": {},
   "outputs": [
    {
     "name": "stdout",
     "output_type": "stream",
     "text": [
      "Number of classes: 2\n",
      "Total number of examples: 9\n"
     ]
    }
   ],
   "source": [
    "# Set the number of examples per category\n",
    "EX_PER_CAT = 6\n",
    "\n",
    "# Create list of examples containing texts and labels - sample from the dataset\n",
    "ex_texts, ex_labels = [], []\n",
    "for intent in intents:\n",
    "  y_temp = y_train[y_train == intent]\n",
    "  sample_indexes = y_temp.index#.sample(n=EX_PER_CAT, random_state=42).index\n",
    "  ex_texts += X_train[sample_indexes].tolist()\n",
    "  ex_labels += y_train[sample_indexes].tolist()\n",
    "\n",
    "# print(f'Number of examples per class: {EX_PER_CAT}')\n",
    "print(f'Number of classes: {len(intents)}')\n",
    "print(f'Total number of examples: {len(ex_texts)}')"
   ]
  },
  {
   "cell_type": "markdown",
   "metadata": {},
   "source": [
    "#### classification using cohene classify endpoint"
   ]
  },
  {
   "cell_type": "code",
   "execution_count": 10,
   "metadata": {},
   "outputs": [],
   "source": [
    "# Collate the examples via the Example module\n",
    "from cohere.classify import Example\n",
    "\n",
    "examples = list()\n",
    "for txt, lbl in zip(X_train,y_train):\n",
    "  examples.append(Example(txt,lbl))"
   ]
  },
  {
   "cell_type": "code",
   "execution_count": 11,
   "metadata": {},
   "outputs": [],
   "source": [
    "def classify_text(text, examples):\n",
    "  classifications = co.classify(\n",
    "      model='medium',  # model version - medium-22020720\n",
    "      inputs=[text],\n",
    "      examples=examples\n",
    "  )\n",
    "  return classifications.classifications[0].prediction"
   ]
  },
  {
   "cell_type": "code",
   "execution_count": 12,
   "metadata": {},
   "outputs": [
    {
     "data": {
      "text/plain": [
       "[cohere.Example {\n",
       " \ttext: Marché Résines dans les peintures et revêtements 2021 avec les données des meilleurs pays et l analyse Covid 19  la portée future  l estimation de la taille  les revenus  les tendances des prix et les prévisions d ici 2026\n",
       " \tlabel: 1\n",
       " },\n",
       " cohere.Example {\n",
       " \ttext: The construction sector is expected to be boosted by riots and looting repairs\n",
       " \tlabel: 0\n",
       " },\n",
       " cohere.Example {\n",
       " \ttext: AI drives data analytics surge  study finds\n",
       " \tlabel: 1\n",
       " },\n",
       " cohere.Example {\n",
       " \ttext: Male arrested for the murder of an elderly female in Cofimvaba   SAPS Crime Report  2021 09 09 13 22 58\n",
       " \tlabel: 0\n",
       " },\n",
       " cohere.Example {\n",
       " \ttext: 7th Anniversary of SCOAN Collapse in Nigeria SABC News\n",
       " \tlabel: 1\n",
       " },\n",
       " cohere.Example {\n",
       " \ttext: Boris Johnson using a taxpayer funded jet for an election campaign fits a long history of taking things he didn t pay for\n",
       " \tlabel: 1\n",
       " },\n",
       " cohere.Example {\n",
       " \ttext: Triacetin Vertrieb Markt 2021  Globale Unternehmensanalyse  Merkmale  Marktplatzlänge und  prognosen bis zu 2027 mit Hauptregionen und Nationeninformationen\n",
       " \tlabel: 1\n",
       " },\n",
       " cohere.Example {\n",
       " \ttext: News24 com   Court dismisses attempt by former Eskom CEO to  punish  woman for tweet\n",
       " \tlabel: 0\n",
       " },\n",
       " cohere.Example {\n",
       " \ttext: Global and Regional Beta Carotene Market Research 2020 Report   Growth Forecast 2025 key players    DSM   BASF   Allied Biotech   Chr Hansen   LYCORED\n",
       " \tlabel: 1\n",
       " }]"
      ]
     },
     "execution_count": 12,
     "metadata": {},
     "output_type": "execute_result"
    }
   ],
   "source": [
    "examples"
   ]
  },
  {
   "cell_type": "code",
   "execution_count": 13,
   "metadata": {},
   "outputs": [],
   "source": [
    "# Generate classification predictions on the test dataset (this will take a few minutes)\n",
    "y_pred = X_test.apply(classify_text, args=(examples,)).tolist()"
   ]
  },
  {
   "cell_type": "code",
   "execution_count": 14,
   "metadata": {},
   "outputs": [
    {
     "name": "stdout",
     "output_type": "stream",
     "text": [
      "Accuracy: 100.00\n",
      "F1-score: 100.00\n"
     ]
    }
   ],
   "source": [
    "# Compute metrics on the test dataset\n",
    "accuracy = accuracy_score(y_test, y_pred)\n",
    "f1 = f1_score(y_test, y_pred, average='weighted')\n",
    "\n",
    "print(f'Accuracy: {100*accuracy:.2f}')\n",
    "print(f'F1-score: {100*f1:.2f}')"
   ]
  },
  {
   "cell_type": "markdown",
   "metadata": {},
   "source": [
    "#### embedding using the embed endpoint from cohere"
   ]
  },
  {
   "cell_type": "code",
   "execution_count": 15,
   "metadata": {},
   "outputs": [],
   "source": [
    "# Embed the training set\n",
    "embeddings_train = co.embed(texts=X_train.tolist(),\n",
    "                            model=\"large\",\n",
    "                            truncate=\"LEFT\").embeddings\n",
    "# Embed the testing set\n",
    "embeddings_test = co.embed(texts=X_test.tolist(),\n",
    "                           model=\"large\",\n",
    "                           truncate=\"LEFT\").embeddings"
   ]
  },
  {
   "cell_type": "code",
   "execution_count": 16,
   "metadata": {},
   "outputs": [
    {
     "name": "stdout",
     "output_type": "stream",
     "text": [
      "Review text: Boris Johnson using a taxpayer funded jet for an election campaign fits a long history of taking things he didn t pay for\n",
      "Embedding vector: [1.5737689, 1.0490721, -1.079248, 0.16202086, 0.72694844, -0.6338423, 2.262563, -0.5368688, -0.46243724, 1.3330556]\n"
     ]
    }
   ],
   "source": [
    "print(f\"Review text: {X_train[0]}\")\n",
    "print(f\"Embedding vector: {embeddings_train[0][:10]}\")"
   ]
  },
  {
   "cell_type": "code",
   "execution_count": 18,
   "metadata": {},
   "outputs": [],
   "source": [
    "# Collate the examples via the Example module\n",
    "from cohere.classify import Example\n",
    "\n",
    "examples = list()\n",
    "for txt, lbl in zip(X_train, y_train):\n",
    "  examples.append(Example(txt,lbl))"
   ]
  },
  {
   "cell_type": "code",
   "execution_count": null,
   "metadata": {},
   "outputs": [],
   "source": []
  }
 ],
 "metadata": {
  "kernelspec": {
   "display_name": "Python 3.8.10 64-bit",
   "language": "python",
   "name": "python3"
  },
  "language_info": {
   "codemirror_mode": {
    "name": "ipython",
    "version": 3
   },
   "file_extension": ".py",
   "mimetype": "text/x-python",
   "name": "python",
   "nbconvert_exporter": "python",
   "pygments_lexer": "ipython3",
   "version": "3.8.10"
  },
  "orig_nbformat": 4,
  "vscode": {
   "interpreter": {
    "hash": "892b1dbae191cb403baa4bf29e539705d2bb168fb9a756bde180b5b738f682b9"
   }
  }
 },
 "nbformat": 4,
 "nbformat_minor": 2
}
