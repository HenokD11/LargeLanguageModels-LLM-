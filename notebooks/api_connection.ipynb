{
 "cells": [
  {
   "cell_type": "markdown",
   "metadata": {},
   "source": [
    "### Establishing connection with Co:here API"
   ]
  },
  {
   "cell_type": "markdown",
   "metadata": {},
   "source": [
    "#### Import Libraries"
   ]
  },
  {
   "cell_type": "code",
   "execution_count": 6,
   "metadata": {},
   "outputs": [],
   "source": [
    "# Import the libraries\n",
    "import cohere\n",
    "import pandas as pd\n",
    "import numpy as np\n",
    "import altair as alt\n",
    "import textwrap as tr"
   ]
  },
  {
   "cell_type": "markdown",
   "metadata": {},
   "source": [
    "#### import secret api key"
   ]
  },
  {
   "cell_type": "code",
   "execution_count": 25,
   "metadata": {},
   "outputs": [],
   "source": [
    "import sys\n",
    "sys.path.insert(0,'../')\n",
    "import config"
   ]
  },
  {
   "cell_type": "markdown",
   "metadata": {},
   "source": [
    "#### Setup the Cohere client"
   ]
  },
  {
   "cell_type": "code",
   "execution_count": 26,
   "metadata": {},
   "outputs": [],
   "source": [
    "co = cohere.Client(config.api_key)"
   ]
  },
  {
   "cell_type": "markdown",
   "metadata": {},
   "source": [
    "### 1 - Generating Text"
   ]
  },
  {
   "cell_type": "markdown",
   "metadata": {},
   "source": [
    "`The Cohere Generate endpoint generates text given an input, called “prompt”. The prompt provides a context of what we want the model to generate text.`"
   ]
  },
  {
   "cell_type": "markdown",
   "metadata": {},
   "source": [
    "#### A function that generates text given a base prompt and a new topic"
   ]
  },
  {
   "cell_type": "code",
   "execution_count": 18,
   "metadata": {},
   "outputs": [],
   "source": [
    "def generate_text(base_prompt, current_prompt):\n",
    "  \"\"\"\n",
    "  Generate text given a prompt\n",
    "  Arguments:\n",
    "    base_prompt(str): the base prompt containing the examples\n",
    "    current_prompt(str): the new topic to generate\n",
    "  Returns:\n",
    "    generation(str): the newly generated output text\n",
    "  \"\"\"\n",
    "  # Generate text by calling the Generate endpoint\n",
    "  \n",
    "  response = co.generate(\n",
    "    model='xlarge',\n",
    "    prompt = base_prompt + current_prompt,\n",
    "    max_tokens=75,\n",
    "    temperature=0.4,\n",
    "    stop_sequences=[\"--\"])\n",
    "  generation = response.generations[0].text\n",
    "\n",
    "  return generation"
   ]
  },
  {
   "cell_type": "code",
   "execution_count": 19,
   "metadata": {},
   "outputs": [],
   "source": [
    "# The base prompt\n",
    "base_prompt = \"\"\"\n",
    "This program will generate the first paragraph of a blog post given a blog title.\n",
    "--\n",
    "Blog Title: Best Activities in Toronto\n",
    "First Paragraph: Looking for fun things to do in Toronto? When it comes to exploring Canada's\n",
    "largest city, there's an ever-evolving set of activities to choose from. Whether you're looking to\n",
    "visit a local museum or sample the city's varied cuisine, there is plenty to fill any itinerary. In\n",
    "this blog post, I'll share some of my favorite recommendations\n",
    "--\n",
    "Blog Title: Mastering Dynamic Programming\n",
    "First Paragraph: In this piece, we'll help you understand the fundamentals of dynamic programming,\n",
    "and when to apply this optimization technique. We'll break down bottom-up and top-down approaches to\n",
    "solve dynamic programming problems.\n",
    "--\n",
    "Blog Title:\"\"\""
   ]
  },
  {
   "cell_type": "code",
   "execution_count": 20,
   "metadata": {},
   "outputs": [],
   "source": [
    "# The list of topics\n",
    "topics = [\"How to Grow in Your Career\",\n",
    "          \"The Habits of Great Software Developers\",\n",
    "          \"Ideas for a Relaxing Weekend\"]"
   ]
  },
  {
   "cell_type": "code",
   "execution_count": 21,
   "metadata": {},
   "outputs": [],
   "source": [
    "# Keep the generations in a list of paragraphs\n",
    "paragraphs = []\n",
    "\n",
    "for topic in topics:\n",
    "  current_prompt = \" \" + topic + \"\\n\" + \"First Paragraph:\"\n",
    "  para = generate_text(base_prompt, current_prompt)\n",
    "  para = para.strip().replace(\"--\",\"\")\n",
    "  paragraphs.append(para)"
   ]
  },
  {
   "cell_type": "code",
   "execution_count": 22,
   "metadata": {},
   "outputs": [
    {
     "name": "stdout",
     "output_type": "stream",
     "text": [
      "Topic: How to Grow in Your Career\n",
      "First Paragraph: The best way to grow in your career is to develop a growth mindset. The growth\n",
      "mindset is a belief that your intelligence and skills are things that can be developed over time.\n",
      "\n",
      "----------\n",
      "Topic: The Habits of Great Software Developers\n",
      "First Paragraph: What makes a great software developer? This is a question that I've asked myself\n",
      "repeatedly throughout my career. I've seen many people who are great at coding, but not so great at\n",
      "managing their time, or vice versa. I've seen people who are great at managing their time, but not\n",
      "so great at coding.\n",
      "\n",
      "----------\n",
      "Topic: Ideas for a Relaxing Weekend\n",
      "First Paragraph: Planning a weekend getaway? Here are some ideas to help you relax and have\n",
      "\n",
      "fun.\n",
      "\n",
      "----------\n"
     ]
    }
   ],
   "source": [
    "# Display the generated paragraphs\n",
    "for topic,para in zip(topics,paragraphs):\n",
    "  print(f\"Topic: {topic}\")\n",
    "  print(f\"First Paragraph: {para}\")\n",
    "  print(\"-\"*10)"
   ]
  },
  {
   "cell_type": "code",
   "execution_count": null,
   "metadata": {},
   "outputs": [],
   "source": []
  }
 ],
 "metadata": {
  "kernelspec": {
   "display_name": "Python 3.8.10 64-bit",
   "language": "python",
   "name": "python3"
  },
  "language_info": {
   "codemirror_mode": {
    "name": "ipython",
    "version": 3
   },
   "file_extension": ".py",
   "mimetype": "text/x-python",
   "name": "python",
   "nbconvert_exporter": "python",
   "pygments_lexer": "ipython3",
   "version": "3.8.10"
  },
  "orig_nbformat": 4,
  "vscode": {
   "interpreter": {
    "hash": "892b1dbae191cb403baa4bf29e539705d2bb168fb9a756bde180b5b738f682b9"
   }
  }
 },
 "nbformat": 4,
 "nbformat_minor": 2
}
